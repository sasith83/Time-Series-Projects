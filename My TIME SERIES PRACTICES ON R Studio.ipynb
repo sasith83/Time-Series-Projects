{
 "cells": [
  {
   "cell_type": "markdown",
   "metadata": {},
   "source": [
    "# Outline\n",
    "\n",
    "This project has several sections and will provide you a concise introduction to time series concepts in R. We will learn the essential theory and also practice fitting the four main types of time series models, getting you up and running with all the basics in a little more than an hour!\n",
    "\n",
    "(1) Introduction to Rhyme Environment\n",
    "\n",
    "(2) Time Series Data Overview (Theory)\n",
    "\n",
    "(3) Why Time Series? (Theory)\n",
    "\n",
    "(4) Key Concepts: Autocorrelation / Autocovariance (Theory)\n",
    "\n",
    "(5) Key Concepts: Stationarity (Theory)\n",
    "\n",
    "(6) Checking for Stationarity (Practice)\n",
    "\n",
    "(7) Transforming for Stationarity: Differencing (Practice)\n",
    "\n",
    "(8) Transforming for Stationarity: Detrending (Practice)\n",
    "\n",
    "(9) Basic Model Types: AR(p), MA(q), ARMA(p,q), ARIMA(p,d,q), Decomposition (Theory)\n",
    "\n",
    "(10) Fitting AR / MA / ARMA / ARIMA models with the Box Jenkins Method (Theory)\n",
    "\n",
    "(11) Box Jenkins Method: Checking for Stationarity (Practice)\n",
    "\n",
    "(12) Box Jenkins Method: Transforming for Stationarity & Identifying Model Parameters (Practice)\n",
    "\n",
    "(13) Box Jenkins Method: Checking the Residuals of the Model Fit (Practice)\n",
    "\n",
    "(14) Making a Forecast for Each Model (Practice)\n",
    "\n",
    "(15) Fitting STL (Seasonal Trend Loess) Decomposition Models (Practice)\n",
    "\n",
    "(16) Where to go Next"
   ]
  },
  {
   "cell_type": "markdown",
   "metadata": {},
   "source": [
    "# Introduction to Rhyme Environment\n",
    "\n",
    "Now, let's load the R packages we will need for this project (they should be already installed on your virtual machine)."
   ]
  },
  {
   "cell_type": "code",
   "execution_count": 1,
   "metadata": {},
   "outputs": [
    {
     "name": "stderr",
     "output_type": "stream",
     "text": [
      "Warning message in as.POSIXlt.POSIXct(Sys.time()):\n",
      "\"unable to identify current timezone 'C':\n",
      "please set environment variable 'TZ'\"\n",
      "-- \u001b[1mAttaching packages\u001b[22m --------------------------------------- tidyverse 1.3.0 --\n",
      "\n",
      "\u001b[32mv\u001b[39m \u001b[34mggplot2\u001b[39m 3.3.0     \u001b[32mv\u001b[39m \u001b[34mpurrr  \u001b[39m 0.3.3\n",
      "\u001b[32mv\u001b[39m \u001b[34mtibble \u001b[39m 2.1.3     \u001b[32mv\u001b[39m \u001b[34mdplyr  \u001b[39m 0.8.5\n",
      "\u001b[32mv\u001b[39m \u001b[34mtidyr  \u001b[39m 1.0.2     \u001b[32mv\u001b[39m \u001b[34mstringr\u001b[39m 1.4.0\n",
      "\u001b[32mv\u001b[39m \u001b[34mreadr  \u001b[39m 1.3.1     \u001b[32mv\u001b[39m \u001b[34mforcats\u001b[39m 0.5.0\n",
      "\n",
      "-- \u001b[1mConflicts\u001b[22m ------------------------------------------ tidyverse_conflicts() --\n",
      "\u001b[31mx\u001b[39m \u001b[34mtidyr\u001b[39m::\u001b[32mextract()\u001b[39m   masks \u001b[34mmagrittr\u001b[39m::extract()\n",
      "\u001b[31mx\u001b[39m \u001b[34mdplyr\u001b[39m::\u001b[32mfilter()\u001b[39m    masks \u001b[34mstats\u001b[39m::filter()\n",
      "\u001b[31mx\u001b[39m \u001b[34mdplyr\u001b[39m::\u001b[32mlag()\u001b[39m       masks \u001b[34mstats\u001b[39m::lag()\n",
      "\u001b[31mx\u001b[39m \u001b[34mpurrr\u001b[39m::\u001b[32mset_names()\u001b[39m masks \u001b[34mmagrittr\u001b[39m::set_names()\n",
      "\n",
      "\n",
      "Attaching package: 'scales'\n",
      "\n",
      "\n",
      "The following object is masked from 'package:purrr':\n",
      "\n",
      "    discard\n",
      "\n",
      "\n",
      "The following object is masked from 'package:readr':\n",
      "\n",
      "    col_factor\n",
      "\n",
      "\n",
      "\n",
      "Attaching package: 'gridExtra'\n",
      "\n",
      "\n",
      "The following object is masked from 'package:dplyr':\n",
      "\n",
      "    combine\n",
      "\n",
      "\n",
      "Registered S3 method overwritten by 'quantmod':\n",
      "  method            from\n",
      "  as.zoo.data.frame zoo \n",
      "\n"
     ]
    },
    {
     "name": "stdout",
     "output_type": "stream",
     "text": [
      "[1] \"Loading is completed\"\n"
     ]
    }
   ],
   "source": [
    "#load required r packages\n",
    "library(IRdisplay)\n",
    "library(magrittr)\n",
    "library(tidyverse)\n",
    "library(scales)\n",
    "library(gridExtra)\n",
    "library(forecast)\n",
    "library(tseries)\n",
    "library(ggthemes)\n",
    "theme_set(theme_economist())\n",
    "\n",
    "#load helper R functions\n",
    "setwd(\"C:/Users/Administrator/Desktop/Time Series Project Materials/\")\n",
    "source(\"R Functions/compare_models_function.R\")\n",
    "source(\"R Functions/sim_random_walk_function.R\")\n",
    "source(\"R Functions/sim_stationary_example_function.R\")\n",
    "\n",
    "print(\"Loading is completed\")"
   ]
  },
  {
   "cell_type": "markdown",
   "metadata": {},
   "source": [
    "# Time Series Data Overview"
   ]
  },
  {
   "cell_type": "markdown",
   "metadata": {},
   "source": [
    "(Univariate) time series data is defined as sequence data over time: $X_1, X_2, ... , X_T$\n",
    "\n",
    "where $t$ is the time period and $X_t$ is the value of the time series at a particular point\n",
    "\n",
    "Examples: daily temperatures in Boston, US presidential election turnout by year, minute stock prices\n",
    "\n",
    "Variables in time series models generally fall into three categories:\n",
    "\n",
    "(1) endogenous\n",
    "\n",
    "(2) random noise\n",
    "\n",
    "(3) exogenous\n",
    "\n",
    "All time series models involve (1) and (2) but (3) is optional."
   ]
  },
  {
   "cell_type": "markdown",
   "metadata": {},
   "source": [
    "# Why Time Series?"
   ]
  },
  {
   "cell_type": "code",
   "execution_count": 4,
   "metadata": {},
   "outputs": [
    {
     "data": {
      "image/png": "[encoded data removed]",
      "text/plain": [
       "plot without title"
      ]
     },
     "metadata": {
      "image/png": {
       "height": 420,
       "width": 420
      },
      "text/plain": {
       "height": 420,
       "width": 420
      }
     },
     "output_type": "display_data"
    }
   ],
   "source": [
    "#run function to compare linear regression to basic AR(1) time series model\n",
    "compare.models(n=100)"
   ]
  },
  {
   "cell_type": "markdown",
   "metadata": {},
   "source": [
    "# Autocorrelation/Autocovariance\n",
    "\n",
    "Autocorrelation/autocovariance refers to the correlation/covariance between two observations in the time series at different points.\n",
    "\n",
    "The central idea behind it is how related the data/time series is over time.\n",
    "\n",
    "For ease of interpretation we typically focus on autocorrelation i.e. what is the correlation between $X_t$ and $X_{t+p}$ for some integer $p$.\n",
    "\n",
    "A related concept is partial autocorrelation that computes the correlation adjusting for previous lags/periods i.e. the autocorrelation between $X_t$ and $X_{t+p}$ adjusting for the correlation of $X_t$ and $X_{t+1}$, … , $X_{t+p-1}$.\n",
    "\n",
    "When analyzing time series we usually view autocorrelation/partial autocorrelation in ACF/PACF plots.\n",
    "\n",
    "Let's view this for the random walk model we analyzed above: $X_t=X_{t-1}+\\epsilon_t$."
   ]
  },
  {
   "cell_type": "code",
   "execution_count": 5,
   "metadata": {},
   "outputs": [
    {
     "data": {
      "image/png": "[encoded data removed]",
      "text/plain": [
       "plot without title"
      ]
     },
     "metadata": {
      "image/png": {
       "height": 420,
       "width": 420
      },
      "text/plain": {
       "height": 420,
       "width": 420
      }
     },
     "output_type": "display_data"
    }
   ],
   "source": [
    "#simulate random walk\n",
    "dat<-sim.random.walk()\n",
    "\n",
    "#plot random walk\n",
    "dat %>% ggplot(aes(t,X)) + geom_line() + xlab(\"T\") + ylab(\"X\") + ggtitle(\"Time Series Plot\")"
   ]
  },
  {
   "cell_type": "code",
   "execution_count": 6,
   "metadata": {},
   "outputs": [
    {
     "data": {
      "image/png": "[encoded data removed]",
      "text/plain": [
       "plot without title"
      ]
     },
     "metadata": {
      "image/png": {
       "height": 420,
       "width": 420
      },
      "text/plain": {
       "height": 420,
       "width": 420
      }
     },
     "output_type": "display_data"
    }
   ],
   "source": [
    "#ACF plot\n",
    "ggAcf(dat$X,type=\"correlation\") + ggtitle(\"Autocorrelation ACF Plot\")"
   ]
  },
  {
   "cell_type": "code",
   "execution_count": 7,
   "metadata": {},
   "outputs": [
    {
     "data": {
      "image/png": "[encoded data removed]",
      "text/plain": [
       "plot without title"
      ]
     },
     "metadata": {
      "image/png": {
       "height": 420,
       "width": 420
      },
      "text/plain": {
       "height": 420,
       "width": 420
      }
     },
     "output_type": "display_data"
    }
   ],
   "source": [
    "#PACF plot\n",
    "ggAcf(dat$X,type=\"partial\") + ggtitle(\"Partial Autocorrelation PACF Plot\")"
   ]
  },
  {
   "cell_type": "markdown",
   "metadata": {},
   "source": [
    "# Stationarity\n",
    "\n",
    "The second key concept in time series is stationarity.\n",
    "\n",
    "While the concept can get quite technical, the basic idea is examining whether the distribution of the data over time is consistent.\n",
    "\n",
    "There are two main forms of stationarity.\n",
    "\n",
    "(1) Strict stationarity imples:\n",
    "\n",
    "The cumulative distribution function of the data does not depend on time:\n",
    "\n",
    "$F_X(X_1,...,X_T)=F_X(X_{1+\\Delta},...,X_{T+\\Delta})$ $\\forall \\Delta\\in\\mathbb{R}$ \n",
    "\n",
    "(2) Weak stationarity implies:\n",
    "\n",
    "- the mean of the time series is constant\n",
    "\n",
    "$E(X_t)=E(X_{t+\\Delta})$\n",
    "\n",
    "- the autocovariance/autocorrelation only depends on the time difference between points\n",
    "\n",
    "$ACF(X_{t},X_{t+\\Delta-1})=ACF(X_1,X_{\\Delta})$\n",
    "\n",
    "- the time series has a finite variance\n",
    "\n",
    "$Var(X_\\Delta)<\\infty$  $\\forall \\Delta\\in\\mathbb{R}$"
   ]
  },
  {
   "cell_type": "markdown",
   "metadata": {},
   "source": [
    "# Checking for Stationarity"
   ]
  },
  {
   "cell_type": "code",
   "execution_count": 9,
   "metadata": {},
   "outputs": [
    {
     "data": {
      "text/html": [
       "<table>\n",
       "<caption>A data.frame: 6 × 4</caption>\n",
       "<thead>\n",
       "\t<tr><th></th><th scope=col>t</th><th scope=col>X1</th><th scope=col>X2</th><th scope=col>X3</th></tr>\n",
       "\t<tr><th></th><th scope=col>&lt;int&gt;</th><th scope=col>&lt;dbl&gt;</th><th scope=col>&lt;dbl&gt;</th><th scope=col>&lt;dbl&gt;</th></tr>\n",
       "</thead>\n",
       "<tbody>\n",
       "\t<tr><th scope=row>1</th><td>1</td><td>0.1149073</td><td>-0.235726</td><td> 1.1968478</td></tr>\n",
       "\t<tr><th scope=row>2</th><td>2</td><td>0.4566683</td><td> 1.010389</td><td> 0.5031187</td></tr>\n",
       "\t<tr><th scope=row>3</th><td>3</td><td>0.5459029</td><td> 3.412150</td><td> 0.1698908</td></tr>\n",
       "\t<tr><th scope=row>4</th><td>4</td><td>0.8613313</td><td> 3.081801</td><td>-1.2543893</td></tr>\n",
       "\t<tr><th scope=row>5</th><td>5</td><td>0.5043100</td><td> 3.405090</td><td>-0.2510867</td></tr>\n",
       "\t<tr><th scope=row>6</th><td>6</td><td>1.0260657</td><td> 3.763052</td><td> 0.7166755</td></tr>\n",
       "</tbody>\n",
       "</table>\n"
      ],
      "text/latex": [
       "A data.frame: 6 × 4\n",
       "\\begin{tabular}{r|llll}\n",
       "  & t & X1 & X2 & X3\\\\\n",
       "  & <int> & <dbl> & <dbl> & <dbl>\\\\\n",
       "\\hline\n",
       "\t1 & 1 & 0.1149073 & -0.235726 &  1.1968478\\\\\n",
       "\t2 & 2 & 0.4566683 &  1.010389 &  0.5031187\\\\\n",
       "\t3 & 3 & 0.5459029 &  3.412150 &  0.1698908\\\\\n",
       "\t4 & 4 & 0.8613313 &  3.081801 & -1.2543893\\\\\n",
       "\t5 & 5 & 0.5043100 &  3.405090 & -0.2510867\\\\\n",
       "\t6 & 6 & 1.0260657 &  3.763052 &  0.7166755\\\\\n",
       "\\end{tabular}\n"
      ],
      "text/markdown": [
       "\n",
       "A data.frame: 6 × 4\n",
       "\n",
       "| <!--/--> | t &lt;int&gt; | X1 &lt;dbl&gt; | X2 &lt;dbl&gt; | X3 &lt;dbl&gt; |\n",
       "|---|---|---|---|---|\n",
       "| 1 | 1 | 0.1149073 | -0.235726 |  1.1968478 |\n",
       "| 2 | 2 | 0.4566683 |  1.010389 |  0.5031187 |\n",
       "| 3 | 3 | 0.5459029 |  3.412150 |  0.1698908 |\n",
       "| 4 | 4 | 0.8613313 |  3.081801 | -1.2543893 |\n",
       "| 5 | 5 | 0.5043100 |  3.405090 | -0.2510867 |\n",
       "| 6 | 6 | 1.0260657 |  3.763052 |  0.7166755 |\n",
       "\n"
      ],
      "text/plain": [
       "  t X1        X2        X3        \n",
       "1 1 0.1149073 -0.235726  1.1968478\n",
       "2 2 0.4566683  1.010389  0.5031187\n",
       "3 3 0.5459029  3.412150  0.1698908\n",
       "4 4 0.8613313  3.081801 -1.2543893\n",
       "5 5 0.5043100  3.405090 -0.2510867\n",
       "6 6 1.0260657  3.763052  0.7166755"
      ]
     },
     "metadata": {},
     "output_type": "display_data"
    },
    {
     "data": {
      "text/html": [
       "<style>\n",
       ".list-inline {list-style: none; margin:0; padding: 0}\n",
       ".list-inline>li {display: inline-block}\n",
       ".list-inline>li:not(:last-child)::after {content: \"\\00b7\"; padding: 0 .5ex}\n",
       "</style>\n",
       "<ol class=list-inline><li>1000</li><li>4</li></ol>\n"
      ],
      "text/latex": [
       "\\begin{enumerate*}\n",
       "\\item 1000\n",
       "\\item 4\n",
       "\\end{enumerate*}\n"
      ],
      "text/markdown": [
       "1. 1000\n",
       "2. 4\n",
       "\n",
       "\n"
      ],
      "text/plain": [
       "[1] 1000    4"
      ]
     },
     "metadata": {},
     "output_type": "display_data"
    }
   ],
   "source": [
    "#create three time series for example\n",
    "df<-sim.stationary.example(n=1000)\n",
    "head(df);dim(df)"
   ]
  },
  {
   "cell_type": "markdown",
   "metadata": {},
   "source": [
    "- Check a plot of the time series over time and look for constant mean and finite variance i.e. values appear bounded."
   ]
  },
  {
   "cell_type": "code",
   "execution_count": 12,
   "metadata": {},
   "outputs": [
    {
     "data": {
      "image/png": "[encoded data removed]",
      "text/plain": [
       "plot without title"
      ]
     },
     "metadata": {
      "image/png": {
       "height": 420,
       "width": 420
      },
      "text/plain": {
       "height": 420,
       "width": 420
      }
     },
     "output_type": "display_data"
    }
   ],
   "source": [
    "#plot nonstationary and stationary time series\n",
    "\n",
    "g1<-ggplot(df,aes(x=t,y=X1))+ geom_line() + xlab(\"T\") + ylab(\"X1\")+ggtitle(\"Nonstationary\")\n",
    "g2<-ggplot(df,aes(x=t,y=X3))+ geom_line() + xlab(\"T\") + ylab(\"X3\")+ggtitle(\"Stationary\")\n",
    "grid.arrange(g1,g2)"
   ]
  },
  {
   "cell_type": "markdown",
   "metadata": {},
   "source": [
    "- Look at the ACF plot and see if it dies off quickly as opposed to a gradual decline."
   ]
  },
  {
   "cell_type": "code",
   "execution_count": 17,
   "metadata": {},
   "outputs": [
    {
     "data": {
      "image/png": "[encoded data removed]",
      "text/plain": [
       "plot without title"
      ]
     },
     "metadata": {
      "image/png": {
       "height": 420,
       "width": 420
      },
      "text/plain": {
       "height": 420,
       "width": 420
      }
     },
     "output_type": "display_data"
    }
   ],
   "source": [
    "#ACF for nonstationary and stationary time series\n",
    "g1<-ggAcf(df$X1,type=\"correlation\") +  xlab(\"T\") + ylab(\"X1\") + ggtitle(\"Nonstationary\")\n",
    "g2<-ggAcf(df$X3,type=\"correlation\") +  xlab(\"T\") + ylab(\"X3\") + ggtitle(\"Stationary\")\n",
    "grid.arrange(g1,g2)"
   ]
  },
  {
   "cell_type": "markdown",
   "metadata": {},
   "source": [
    "- Perform unit root tests such as the Augmented Dickey–Fuller test."
   ]
  },
  {
   "cell_type": "code",
   "execution_count": 23,
   "metadata": {},
   "outputs": [
    {
     "data": {
      "text/plain": [
       "\n",
       "\tAugmented Dickey-Fuller Test\n",
       "\n",
       "data:  df$X1\n",
       "Dickey-Fuller = -3.9318, Lag order = 9, p-value = 0.0124\n",
       "alternative hypothesis: stationary\n"
      ]
     },
     "metadata": {},
     "output_type": "display_data"
    }
   ],
   "source": [
    "#perform unit test; nonstationary example has large, non-significant p-value\n",
    "adf.test(df$X1)"
   ]
  },
  {
   "cell_type": "code",
   "execution_count": 24,
   "metadata": {},
   "outputs": [
    {
     "name": "stderr",
     "output_type": "stream",
     "text": [
      "Warning message in adf.test(df$X3):\n",
      "\"p-value smaller than printed p-value\"\n"
     ]
    },
    {
     "data": {
      "text/plain": [
       "\n",
       "\tAugmented Dickey-Fuller Test\n",
       "\n",
       "data:  df$X3\n",
       "Dickey-Fuller = -9.7392, Lag order = 9, p-value = 0.01\n",
       "alternative hypothesis: stationary\n"
      ]
     },
     "metadata": {},
     "output_type": "display_data"
    }
   ],
   "source": [
    "#perform unit test; stationary example has small, significant p-value\n",
    "adf.test(df$X3)"
   ]
  },
  {
   "cell_type": "markdown",
   "metadata": {},
   "source": [
    "# Transforming for Stationarity\n",
    "\n",
    "## Differencing\n",
    "\n",
    "Differencing involves taking differences between successive time series values.\n",
    "\n",
    "The order of differencing is defined as p for $X_t-X_{t-p}$.\n",
    "\n",
    "Let's transform a nonstationary time series to stationary by differencing with the random walk model.\n",
    "\n",
    "In a random walk $X_t=X_{t-1}+\\epsilon_t$ where $\\epsilon_t\\sim N(0,\\sigma^2)$ iid.\n",
    "\n",
    "Differencing with an order of one means that $\\tilde{X}_t=X_t-X_{t-1}=\\epsilon_t$."
   ]
  },
  {
   "cell_type": "code",
   "execution_count": 25,
   "metadata": {},
   "outputs": [],
   "source": [
    "#difference time series to make stationary\n",
    "diff<-df$X1-lag(df$X1,1)"
   ]
  },
  {
   "cell_type": "code",
   "execution_count": 26,
   "metadata": {},
   "outputs": [
    {
     "data": {
      "image/png": "[encoded data removed]",
      "text/plain": [
       "plot without title"
      ]
     },
     "metadata": {
      "image/png": {
       "height": 420,
       "width": 420
      },
      "text/plain": {
       "height": 420,
       "width": 420
      }
     },
     "output_type": "display_data"
    }
   ],
   "source": [
    "#plot original and differenced time series\n",
    "g1<-ggAcf(df$X1,type=\"correlation\")\n",
    "g2<-ggAcf(diff,type=\"correlation\")\n",
    "grid.arrange(g1,g2)"
   ]
  },
  {
   "cell_type": "markdown",
   "metadata": {},
   "source": [
    "## Detrending\n",
    "\n",
    "Detrending involves removing a deterministic relationship with time.\n",
    "\n",
    "As an example suppose we have the following data generating process $X_t=B_t+\\epsilon_t$ where $\\epsilon_t\\sim N(0,\\sigma^2)$ iid.\n",
    "\n",
    "Detrending involves using the transformed time series $\\tilde{X}_t=X_t-Bt=\\epsilon_t$."
   ]
  },
  {
   "cell_type": "code",
   "execution_count": 29,
   "metadata": {},
   "outputs": [],
   "source": [
    "#detrend time series to make stationary\n",
    "detrended<-resid(lm(X2~t,data=df))"
   ]
  },
  {
   "cell_type": "code",
   "execution_count": 30,
   "metadata": {},
   "outputs": [
    {
     "data": {
      "image/png": "[encoded data removed]",
      "text/plain": [
       "plot without title"
      ]
     },
     "metadata": {
      "image/png": {
       "height": 420,
       "width": 420
      },
      "text/plain": {
       "height": 420,
       "width": 420
      }
     },
     "output_type": "display_data"
    }
   ],
   "source": [
    "#plot original and detrended time series\n",
    "g1<-ggAcf(df$X2,type=\"correlation\")\n",
    "g2<-ggAcf(detrended,type=\"correlation\")\n",
    "grid.arrange(g1,g2)"
   ]
  },
  {
   "cell_type": "markdown",
   "metadata": {},
   "source": [
    "# Basic Model Types: AR(p), MA(q), ARMA(p,q), ARIMA(p,d,q), Decomposition\n",
    "\n",
    "## Autoregressive AR(p) Models\n",
    "\n",
    "AR models specify $X_t$ as a function of lagged time series values $X_{t-1}$, $X_{t-2}$, ...\n",
    "\n",
    "i.e $X_t=\\mu+\\phi_1 X_{t-1}+...+\\phi_p X_{t-p}+\\epsilon_t$\n",
    "\n",
    "where $\\mu$ is a mean term and $\\epsilon_t\\overset{iid}\\sim N(0,\\sigma^2)$ is a random error.\n",
    "\n",
    "When fitting an AR model the key choice is p, the number of lags to include.\n",
    "\n",
    "## Moving Average MA(q) Models\n",
    "\n",
    "MA models specify $X_t$ using random noise lags:\n",
    "\n",
    "$X_t=\\mu+\\epsilon_t+\\Theta_1\\epsilon_{t-1}+...+\\Theta_q\\epsilon_{t-q}$\n",
    "\n",
    "where $\\mu$ is a mean term and $\\epsilon_t\\overset{iid}\\sim N(0,\\sigma^2)$ is a random error.\n",
    "\n",
    "Similar to an AR model, when fitting an MA model the key choice is q, the number of random shock lags.\n",
    "\n",
    "## Autoregressive Moving Average ARMA(p,q) Models\n",
    "\n",
    "ARMA(p,q) models are a combination of an AR and MA model:\n",
    "\n",
    "$X_t=\\mu+\\phi_1 X_{t-1}+...+\\phi_p X_{t-p}+\\epsilon_t+\\Theta_1\\epsilon_{t-1}+...+\\Theta_q\\epsilon_{t-q}$\n",
    "\n",
    "where $\\mu$ is a mean term and $\\epsilon_t\\overset{iid}\\sim N(0,\\sigma^2)$ is a random error.\n",
    "\n",
    "When fitting an ARMA model, we need to choose two things: p, the number of AR lags, and q, the number of MA lags.\n",
    "\n",
    "## Autoregressive Integrated Moving Average ARIMA(p,d,q) Models\n",
    "\n",
    "ARIMA(p,d,q) is an ARMA model with differencing.\n",
    "\n",
    "When fitting an ARIMA model we need to choose three things: p, the number of AR lags, q, the number of MA lags, and d, the number of differences to use.\n",
    "\n",
    "## Decomposition Models\n",
    "\n",
    "Decomposition models specify $X_t$ as a combination of a trend component ($T_t$), seasonal component ($S_t$), and an error component/residual ($E_t$) i.e. $X_t=f(T_t,S_t,E_t)$.\n",
    "\n",
    "Common decomposition forms are: $X_t=T_t+S_t+E_t$ or $X_t=T_t*S_t*E_t$ (where then take logs to recover the additive form).\n",
    "\n",
    "There are various ways to estimate the different trend components: exponential smoothing, state space models/Kalman filtering, STL models, etc.\n",
    "\n",
    "In this project we will cover STL models because of their ease of use and flexibility."
   ]
  },
  {
   "cell_type": "markdown",
   "metadata": {},
   "source": [
    "# Fitting AR/MA/ARMA/ARIMA models with the Box Jenkins Method\n",
    "\n",
    "We will now go over how to fit AR/MA/ARMA/ARIMA models on a real data set and review a generic strategy for fitting them known as the Box Jenkins method. \n",
    "\n",
    "This process involves several steps to help identify the p, d, and q parameters that we need:\n",
    "\n",
    "- Identify whether the time series is stationary or not\n",
    "\n",
    "- Identify p, d, and q of the time series by\n",
    "\n",
    "  - Making the the time series stationary through differencing/detrending to find d\n",
    "  \n",
    "  - Looking at ACF/PACF to find p and q\n",
    "  \n",
    "  - Using model fit diagnostics like AIC or BIC to select the best model to find p, d, and q\n",
    "\n",
    "- Check the model fit using the Ljung–Box test"
   ]
  },
  {
   "cell_type": "code",
   "execution_count": 31,
   "metadata": {},
   "outputs": [
    {
     "data": {
      "text/html": [
       "<table>\n",
       "<caption>A data.frame: 6 × 2</caption>\n",
       "<thead>\n",
       "\t<tr><th></th><th scope=col>DATE</th><th scope=col>MAURN</th></tr>\n",
       "\t<tr><th></th><th scope=col>&lt;fct&gt;</th><th scope=col>&lt;dbl&gt;</th></tr>\n",
       "</thead>\n",
       "<tbody>\n",
       "\t<tr><th scope=row>1</th><td>1976-01-01</td><td>11.6</td></tr>\n",
       "\t<tr><th scope=row>2</th><td>1976-02-01</td><td>11.3</td></tr>\n",
       "\t<tr><th scope=row>3</th><td>1976-03-01</td><td>10.9</td></tr>\n",
       "\t<tr><th scope=row>4</th><td>1976-04-01</td><td> 9.9</td></tr>\n",
       "\t<tr><th scope=row>5</th><td>1976-05-01</td><td> 9.4</td></tr>\n",
       "\t<tr><th scope=row>6</th><td>1976-06-01</td><td> 9.8</td></tr>\n",
       "</tbody>\n",
       "</table>\n"
      ],
      "text/latex": [
       "A data.frame: 6 × 2\n",
       "\\begin{tabular}{r|ll}\n",
       "  & DATE & MAURN\\\\\n",
       "  & <fct> & <dbl>\\\\\n",
       "\\hline\n",
       "\t1 & 1976-01-01 & 11.6\\\\\n",
       "\t2 & 1976-02-01 & 11.3\\\\\n",
       "\t3 & 1976-03-01 & 10.9\\\\\n",
       "\t4 & 1976-04-01 &  9.9\\\\\n",
       "\t5 & 1976-05-01 &  9.4\\\\\n",
       "\t6 & 1976-06-01 &  9.8\\\\\n",
       "\\end{tabular}\n"
      ],
      "text/markdown": [
       "\n",
       "A data.frame: 6 × 2\n",
       "\n",
       "| <!--/--> | DATE &lt;fct&gt; | MAURN &lt;dbl&gt; |\n",
       "|---|---|---|\n",
       "| 1 | 1976-01-01 | 11.6 |\n",
       "| 2 | 1976-02-01 | 11.3 |\n",
       "| 3 | 1976-03-01 | 10.9 |\n",
       "| 4 | 1976-04-01 |  9.9 |\n",
       "| 5 | 1976-05-01 |  9.4 |\n",
       "| 6 | 1976-06-01 |  9.8 |\n",
       "\n"
      ],
      "text/plain": [
       "  DATE       MAURN\n",
       "1 1976-01-01 11.6 \n",
       "2 1976-02-01 11.3 \n",
       "3 1976-03-01 10.9 \n",
       "4 1976-04-01  9.9 \n",
       "5 1976-05-01  9.4 \n",
       "6 1976-06-01  9.8 "
      ]
     },
     "metadata": {},
     "output_type": "display_data"
    },
    {
     "data": {
      "text/html": [
       "<style>\n",
       ".list-inline {list-style: none; margin:0; padding: 0}\n",
       ".list-inline>li {display: inline-block}\n",
       ".list-inline>li:not(:last-child)::after {content: \"\\00b7\"; padding: 0 .5ex}\n",
       "</style>\n",
       "<ol class=list-inline><li>529</li><li>2</li></ol>\n"
      ],
      "text/latex": [
       "\\begin{enumerate*}\n",
       "\\item 529\n",
       "\\item 2\n",
       "\\end{enumerate*}\n"
      ],
      "text/markdown": [
       "1. 529\n",
       "2. 2\n",
       "\n",
       "\n"
      ],
      "text/plain": [
       "[1] 529   2"
      ]
     },
     "metadata": {},
     "output_type": "display_data"
    }
   ],
   "source": [
    "#load data\n",
    "ur<-read.csv(\"Data/Mass Monthly Unemployment Rate.csv\")\n",
    "head(ur);dim(ur)"
   ]
  },
  {
   "cell_type": "code",
   "execution_count": null,
   "metadata": {},
   "outputs": [],
   "source": []
  },
  {
   "cell_type": "code",
   "execution_count": 32,
   "metadata": {},
   "outputs": [
    {
     "data": {
      "text/html": [
       "'factor'"
      ],
      "text/latex": [
       "'factor'"
      ],
      "text/markdown": [
       "'factor'"
      ],
      "text/plain": [
       "[1] \"factor\""
      ]
     },
     "metadata": {},
     "output_type": "display_data"
    }
   ],
   "source": [
    "#check date class\n",
    "class(ur$DATE)"
   ]
  },
  {
   "cell_type": "code",
   "execution_count": 33,
   "metadata": {},
   "outputs": [
    {
     "data": {
      "text/html": [
       "'Date'"
      ],
      "text/latex": [
       "'Date'"
      ],
      "text/markdown": [
       "'Date'"
      ],
      "text/plain": [
       "[1] \"Date\""
      ]
     },
     "metadata": {},
     "output_type": "display_data"
    }
   ],
   "source": [
    "#change date class to date type\n",
    "ur$DATE<-as.Date(ur$DATE)\n",
    "class(ur$DATE)"
   ]
  },
  {
   "cell_type": "markdown",
   "metadata": {},
   "source": [
    "## Checking for Stationarity"
   ]
  },
  {
   "cell_type": "code",
   "execution_count": 35,
   "metadata": {},
   "outputs": [
    {
     "data": {
      "image/png": "[encoded data removed]",
      "text/plain": [
       "plot without title"
      ]
     },
     "metadata": {
      "image/png": {
       "height": 420,
       "width": 420
      },
      "text/plain": {
       "height": 420,
       "width": 420
      }
     },
     "output_type": "display_data"
    }
   ],
   "source": [
    "#check time series plot\n",
    "ggplot(ur,aes(x=DATE, y=MAURN)) +geom_line()"
   ]
  },
  {
   "cell_type": "code",
   "execution_count": 36,
   "metadata": {},
   "outputs": [
    {
     "data": {
      "image/png": "[encoded data removed]",
      "text/plain": [
       "plot without title"
      ]
     },
     "metadata": {
      "image/png": {
       "height": 420,
       "width": 420
      },
      "text/plain": {
       "height": 420,
       "width": 420
      }
     },
     "output_type": "display_data"
    }
   ],
   "source": [
    "#check ACF plot\n",
    "ggAcf(ur$MAURN,type=\"correlation\")"
   ]
  },
  {
   "cell_type": "code",
   "execution_count": 37,
   "metadata": {},
   "outputs": [
    {
     "data": {
      "text/plain": [
       "\n",
       "\tAugmented Dickey-Fuller Test\n",
       "\n",
       "data:  ur$MAURN\n",
       "Dickey-Fuller = -3.0954, Lag order = 8, p-value = 0.1146\n",
       "alternative hypothesis: stationary\n"
      ]
     },
     "metadata": {},
     "output_type": "display_data"
    }
   ],
   "source": [
    "#run ADF test\n",
    "adf.test(ur$MAURN)"
   ]
  },
  {
   "cell_type": "markdown",
   "metadata": {},
   "source": [
    "## Transforming for Stationarity & Identifying Model Parameters"
   ]
  },
  {
   "cell_type": "code",
   "execution_count": 41,
   "metadata": {},
   "outputs": [
    {
     "data": {
      "text/plain": [
       "Series: ur$MAURN \n",
       "ARIMA(1,0,0) with non-zero mean \n",
       "\n",
       "Coefficients:\n",
       "         ar1    mean\n",
       "      0.9787  5.7425\n",
       "s.e.  0.0101  0.8498\n",
       "\n",
       "sigma^2 estimated as 0.2:  log likelihood=-325.44\n",
       "AIC=656.88   AICc=656.93   BIC=669.7"
      ]
     },
     "metadata": {},
     "output_type": "display_data"
    }
   ],
   "source": [
    "#fit AR model\n",
    "ar.model<-auto.arima(ur$MAURN, max.d=0, max.q=0, allowdrift=T)\n",
    "ar.model"
   ]
  },
  {
   "cell_type": "code",
   "execution_count": 43,
   "metadata": {},
   "outputs": [
    {
     "data": {
      "text/plain": [
       "Series: ur$MAURN \n",
       "ARIMA(0,0,5) with non-zero mean \n",
       "\n",
       "Coefficients:\n",
       "         ma1     ma2     ma3     ma4     ma5    mean\n",
       "      1.3646  1.7103  1.4882  1.2714  0.4804  5.4588\n",
       "s.e.  0.0368  0.0492  0.0578  0.0393  0.0350  0.1507\n",
       "\n",
       "sigma^2 estimated as 0.229:  log likelihood=-361.03\n",
       "AIC=736.05   AICc=736.27   BIC=765.95"
      ]
     },
     "metadata": {},
     "output_type": "display_data"
    }
   ],
   "source": [
    "#fit MA model\n",
    "ma.model<-auto.arima(ur$MAURN, max.d=0, max.p=0, allowdrift=T)\n",
    "ma.model"
   ]
  },
  {
   "cell_type": "code",
   "execution_count": 44,
   "metadata": {},
   "outputs": [
    {
     "data": {
      "text/plain": [
       "Series: ur$MAURN \n",
       "ARIMA(3,0,2) with non-zero mean \n",
       "\n",
       "Coefficients:\n",
       "          ar1     ar2     ar3     ma1     ma2    mean\n",
       "      -0.2266  0.5998  0.5573  1.3361  0.8876  5.7038\n",
       "s.e.   0.0885  0.0544  0.0569  0.0544  0.0221  0.7763\n",
       "\n",
       "sigma^2 estimated as 0.1693:  log likelihood=-280.15\n",
       "AIC=574.3   AICc=574.51   BIC=604.19"
      ]
     },
     "metadata": {},
     "output_type": "display_data"
    }
   ],
   "source": [
    "#fir ARMA model\n",
    "arma.model<-auto.arima(ur$MAURN, max.d=0, allowdrift=T)\n",
    "arma.model"
   ]
  },
  {
   "cell_type": "code",
   "execution_count": 45,
   "metadata": {},
   "outputs": [
    {
     "data": {
      "text/plain": [
       "Series: ur$MAURN \n",
       "ARIMA(4,1,2) \n",
       "\n",
       "Coefficients:\n",
       "         ar1      ar2      ar3     ar4      ma1     ma2\n",
       "      1.0029  -0.1834  -0.3982  0.4872  -1.1149  0.2512\n",
       "s.e.  0.0708   0.0750   0.0560  0.0394   0.0793  0.0711\n",
       "\n",
       "sigma^2 estimated as 0.1509:  log likelihood=-247.45\n",
       "AIC=508.9   AICc=509.12   BIC=538.78"
      ]
     },
     "metadata": {},
     "output_type": "display_data"
    }
   ],
   "source": [
    "#fit ARIMA model\n",
    "arima.model<-auto.arima(ur$MAURN, allowdrift=T)\n",
    "arima.model"
   ]
  },
  {
   "cell_type": "markdown",
   "metadata": {},
   "source": [
    "## Checking the Residuals of the Model Fit"
   ]
  },
  {
   "cell_type": "code",
   "execution_count": 46,
   "metadata": {},
   "outputs": [],
   "source": [
    "#calculate residuals of each model\n",
    "ar.residual<-resid(ar.model)\n",
    "ma.residual<-resid(ma.model)\n",
    "arma.residual<-resid(arma.model)\n",
    "arima.residual<-resid(arima.model)"
   ]
  },
  {
   "cell_type": "code",
   "execution_count": 47,
   "metadata": {},
   "outputs": [
    {
     "data": {
      "image/png": "[encoded data removed]",
      "text/plain": [
       "plot without title"
      ]
     },
     "metadata": {
      "image/png": {
       "height": 420,
       "width": 420
      },
      "text/plain": {
       "height": 420,
       "width": 420
      }
     },
     "output_type": "display_data"
    },
    {
     "data": {
      "image/png": "[encoded data removed]",
      "text/plain": [
       "plot without title"
      ]
     },
     "metadata": {
      "image/png": {
       "height": 420,
       "width": 420
      },
      "text/plain": {
       "height": 420,
       "width": 420
      }
     },
     "output_type": "display_data"
    },
    {
     "data": {
      "image/png": "[encoded data removed]",
      "text/plain": [
       "plot without title"
      ]
     },
     "metadata": {
      "image/png": {
       "height": 420,
       "width": 420
      },
      "text/plain": {
       "height": 420,
       "width": 420
      }
     },
     "output_type": "display_data"
    },
    {
     "data": {
      "image/png": "[encoded data removed]",
      "text/plain": [
       "plot without title"
      ]
     },
     "metadata": {
      "image/png": {
       "height": 420,
       "width": 420
      },
      "text/plain": {
       "height": 420,
       "width": 420
      }
     },
     "output_type": "display_data"
    }
   ],
   "source": [
    "#plot PACF plot of each models residuals\n",
    "ggAcf(ar.residual,type=\"partial\")\n",
    "ggAcf(ma.residual,type=\"partial\")\n",
    "ggAcf(arma.residual,type=\"partial\")\n",
    "ggAcf(arima.residual,type=\"partial\")"
   ]
  },
  {
   "cell_type": "code",
   "execution_count": 49,
   "metadata": {},
   "outputs": [
    {
     "data": {
      "text/plain": [
       "\n",
       "\tBox-Ljung test\n",
       "\n",
       "data:  ar.residual\n",
       "X-squared = 0.88802, df = 1, p-value = 0.346\n"
      ]
     },
     "metadata": {},
     "output_type": "display_data"
    },
    {
     "data": {
      "text/plain": [
       "\n",
       "\tBox-Ljung test\n",
       "\n",
       "data:  ma.residual\n",
       "X-squared = 0.56386, df = 1, p-value = 0.4527\n"
      ]
     },
     "metadata": {},
     "output_type": "display_data"
    },
    {
     "data": {
      "text/plain": [
       "\n",
       "\tBox-Ljung test\n",
       "\n",
       "data:  arma.residual\n",
       "X-squared = 0.96785, df = 1, p-value = 0.3252\n"
      ]
     },
     "metadata": {},
     "output_type": "display_data"
    },
    {
     "data": {
      "text/plain": [
       "\n",
       "\tBox-Ljung test\n",
       "\n",
       "data:  arima.residual\n",
       "X-squared = 0.0032696, df = 1, p-value = 0.9544\n"
      ]
     },
     "metadata": {},
     "output_type": "display_data"
    }
   ],
   "source": [
    "#run the Ljung Box test on the residuals\n",
    "Box.test(ar.residual, type=\"Ljung-Box\", lag=1)\n",
    "Box.test(ma.residual, type=\"Ljung-Box\", lag=1)\n",
    "Box.test(arma.residual ,type=\"Ljung-Box\",lag=1)\n",
    "Box.test(arima.residual,type=\"Ljung-Box\",lag=1)"
   ]
  },
  {
   "cell_type": "markdown",
   "metadata": {},
   "source": [
    "## Making a forecast for each model"
   ]
  },
  {
   "cell_type": "code",
   "execution_count": 50,
   "metadata": {},
   "outputs": [],
   "source": [
    "#make forecast for each model\n",
    "ar.forecast<-forecast(ar.model, h =24, level=80)\n",
    "ma.forecast<-forecast(ma.model, h =24, level=80)\n",
    "arma.forecast<-forecast(arma.model, h =24, level=80)\n",
    "arima.forecast<-forecast(arima.model, h =24, level=80)"
   ]
  },
  {
   "cell_type": "code",
   "execution_count": 52,
   "metadata": {},
   "outputs": [
    {
     "data": {
      "image/png": "[encoded data removed]",
      "text/plain": [
       "plot without title"
      ]
     },
     "metadata": {
      "image/png": {
       "height": 420,
       "width": 420
      },
      "text/plain": {
       "height": 420,
       "width": 420
      }
     },
     "output_type": "display_data"
    }
   ],
   "source": [
    "#plot forecast for each model\n",
    "g1<-autoplot(ar.forecast)\n",
    "g2<-autoplot(ma.forecast)\n",
    "g3<-autoplot(arma.forecast)\n",
    "g4<-autoplot(arima.forecast)\n",
    "grid.arrange(g1,g2,g3,g4, nrow=2, ncol=2)"
   ]
  },
  {
   "cell_type": "markdown",
   "metadata": {},
   "source": [
    "# Fitting Seasonal Trend Loess (STL) Decomposition Models"
   ]
  },
  {
   "cell_type": "code",
   "execution_count": 53,
   "metadata": {},
   "outputs": [],
   "source": [
    "#transform to time series object; need to specify frequency\n",
    "ur.ts<-ts(ur$MAURN, frequency=12)"
   ]
  },
  {
   "cell_type": "code",
   "execution_count": 54,
   "metadata": {},
   "outputs": [],
   "source": [
    "#fit stil model\n",
    "stl.model<-stl(ur.ts,s.window=\"periodic\")"
   ]
  },
  {
   "cell_type": "code",
   "execution_count": 55,
   "metadata": {},
   "outputs": [
    {
     "data": {
      "image/png": "[encoded data removed]",
      "text/plain": [
       "plot without title"
      ]
     },
     "metadata": {
      "image/png": {
       "height": 420,
       "width": 420
      },
      "text/plain": {
       "height": 420,
       "width": 420
      }
     },
     "output_type": "display_data"
    }
   ],
   "source": [
    "#plot model fit\n",
    "autoplot(stl.model)"
   ]
  },
  {
   "cell_type": "code",
   "execution_count": 56,
   "metadata": {},
   "outputs": [
    {
     "data": {
      "image/png": "[encoded data removed]",
      "text/plain": [
       "plot without title"
      ]
     },
     "metadata": {
      "image/png": {
       "height": 420,
       "width": 420
      },
      "text/plain": {
       "height": 420,
       "width": 420
      }
     },
     "output_type": "display_data"
    }
   ],
   "source": [
    "#make forecast\n",
    "stl.forecast<-forecast(stl.model, h=24, level=80)\n",
    "\n",
    "autoplot(stl.forecast)"
   ]
  },
  {
   "cell_type": "markdown",
   "metadata": {},
   "source": [
    "# Practice project end!"
   ]
  },
  {
   "cell_type": "code",
   "execution_count": null,
   "metadata": {},
   "outputs": [],
   "source": []
  }
 ],
 "metadata": {
  "kernelspec": {
   "display_name": "R",
   "language": "R",
   "name": "ir"
  },
  "language_info": {
   "codemirror_mode": "r",
   "file_extension": ".r",
   "mimetype": "text/x-r-source",
   "name": "R",
   "pygments_lexer": "r",
   "version": "3.6.1"
  }
 },
 "nbformat": 4,
 "nbformat_minor": 4
}
